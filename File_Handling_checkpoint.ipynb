{
  "nbformat": 4,
  "nbformat_minor": 0,
  "metadata": {
    "colab": {
      "provenance": [],
      "authorship_tag": "ABX9TyNG2FWbpy+SF2ro0aRN1XgC",
      "include_colab_link": true
    },
    "kernelspec": {
      "name": "python3",
      "display_name": "Python 3"
    },
    "language_info": {
      "name": "python"
    }
  },
  "cells": [
    {
      "cell_type": "markdown",
      "metadata": {
        "id": "view-in-github",
        "colab_type": "text"
      },
      "source": [
        "<a href=\"https://colab.research.google.com/github/Benbuk/GOMYCODE_DS_Bootcamp/blob/main/File_Handling_checkpoint.ipynb\" target=\"_parent\"><img src=\"https://colab.research.google.com/assets/colab-badge.svg\" alt=\"Open In Colab\"/></a>"
      ]
    },
    {
      "cell_type": "markdown",
      "source": [
        "**Numpy File Handling Checkpoint**\n",
        "\n",
        "Checkpoint Objective\n",
        "\n",
        "This dataset contains loan information, including loan ID, customer gender, location, region, total price for each loan etc.\n",
        "\n",
        "Instructions\n",
        "\n",
        "1. Begin by importing the necessary libraries, numpy.\n",
        "2. Use the open() function to open csv file and assign the result to a variable.\n",
        "3. Use the numpy array to perform some basic statistical analysis on the data, such as finding the mean, median, and standard deviation of the loan amounts.\n",
        "\n",
        "Note:\n",
        "\n",
        ">Be sure to close the file after you have finished reading it in with the open() function.\n",
        "\n",
        ">Use the delimiter parameter in the genfromtxt() function to specify that the values in the file are separated by commas.\n",
        "\n",
        ">You can use the numpy functions mean(), median(), and std() to find the mean, median, and standard deviation of the loan amounts."
      ],
      "metadata": {
        "id": "E46wewfUi3uK"
      }
    },
    {
      "cell_type": "markdown",
      "source": [],
      "metadata": {
        "id": "L2epRyXfxA2u"
      }
    },
    {
      "cell_type": "code",
      "source": [
        "import numpy as np\n",
        "\n",
        "# Open the file using the open() function\n",
        "with open(\"/content/Personal_data/LoanAmount.csv\", 'r') as file:\n",
        "    # Use NumPy's genfromtxt to load data from the CSV file\n",
        "    Loandata = np.genfromtxt(file, delimiter=',')\n",
        "\n",
        "#exclude all null or none data from the dataset\n",
        "Loandata = Loandata[~np.isnan(Loandata)]\n",
        "\n",
        "\n",
        "# Perform basic statistical analysis\n",
        "mean_loan_amount = np.mean(Loandata)\n",
        "median_loan_amount = np.median(Loandata)\n",
        "std_dev_loan_amount = np.std(Loandata)\n",
        "\n",
        "# Print the results\n",
        "print(\"Mean Loan Amount:\", mean_loan_amount)\n",
        "print(\"Median Loan Amount:\", median_loan_amount)\n",
        "print(\"Standard Deviation of Loan Amounts:\", std_dev_loan_amount)\n"
      ],
      "metadata": {
        "colab": {
          "base_uri": "https://localhost:8080/"
        },
        "id": "_eTRdbQE9lVp",
        "outputId": "0a71ded8-0ada-41d2-ca16-c0da04b25ed2"
      },
      "execution_count": 13,
      "outputs": [
        {
          "output_type": "stream",
          "name": "stdout",
          "text": [
            "Mean Loan Amount: 145.85255198487712\n",
            "Median Loan Amount: 128.0\n",
            "Standard Deviation of Loan Amounts: 84.02887363887822\n"
          ]
        }
      ]
    }
  ]
}
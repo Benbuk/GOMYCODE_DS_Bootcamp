{
  "nbformat": 4,
  "nbformat_minor": 0,
  "metadata": {
    "colab": {
      "provenance": [],
      "authorship_tag": "ABX9TyMMIX6Aw2S0dWFcSAORsq7g",
      "include_colab_link": true
    },
    "kernelspec": {
      "name": "python3",
      "display_name": "Python 3"
    },
    "language_info": {
      "name": "python"
    }
  },
  "cells": [
    {
      "cell_type": "markdown",
      "metadata": {
        "id": "view-in-github",
        "colab_type": "text"
      },
      "source": [
        "<a href=\"https://colab.research.google.com/github/Benbuk/GOMYCODE_DS_Bootcamp/blob/main/Python_Function_Syntax.ipynb\" target=\"_parent\"><img src=\"https://colab.research.google.com/assets/colab-badge.svg\" alt=\"Open In Colab\"/></a>"
      ]
    },
    {
      "cell_type": "markdown",
      "source": [],
      "metadata": {
        "id": "rhUcF2LSqsdi"
      }
    },
    {
      "cell_type": "markdown",
      "source": [
        "Python Function Checkpoint\n",
        "\n",
        "Checkpoint Objective\n",
        "\n",
        "Create a calculator program that allows the user to perform mathematical operations on two numbers using basic functions and a dictionary to store the operations. The program should also have the ability to continue calculations with the result of previous calculations.\n",
        "\n",
        "Instructions\n",
        "\n",
        "1. Create four basic mathematical functions: 'add', 'subtract', 'multiply', and 'divide' that take in two numbers and return the result of the operation.\n",
        "2. Create a dictionary 'operations' that assigns the functions to their corresponding operation symbols.\n",
        "3. Create a function 'calculator' that prompts the user to input the first number.\n",
        "4. Use a for loop to print the available operation symbols.\n",
        "5. Create a while loop that will continue to run until the user chooses to end the current calculation.\n",
        "5. Inside the while loop, prompt the user to select an operation symbol.\n",
        "6. Prompt the user to input the second number.\n",
        "7. Use the dictionary to retrieve the function that corresponds to the selected\n",
        "8. operation symbol and store it in a variable 'calculation_function'\n",
        "9. Perform the calculation by calling the 'calculation_function' on the two input numbers and store the result in a variable 'answer'.\n",
        "10. Print the equation and the result of the calculation.\n",
        "10. Ask the user if they would like to continue using the result as the first number for further calculations.\n",
        "11. If the user chooses to continue, update the 'num1' variable to the value of 'answer'.\n",
        "12. If the user chooses to start a new calculation, set the 'should_continue'\n",
        "13. variable to false and call the 'calculator' function to start a new calculation.\n",
        "\n",
        "Note: Make sure to test the program with different inputs and operations to ensure that it is functioning properly."
      ],
      "metadata": {
        "id": "ccxXlKNvINTG"
      }
    },
    {
      "cell_type": "code",
      "source": [
        "#Defining the calculator operators\n",
        "def add(num1, num2):\n",
        "  return num1 + num2\n",
        "\n",
        "def subtract(num1, num2):\n",
        "  return num1 - num2\n",
        "\n",
        "def multiply(num1, num2):\n",
        "  return num1 * num2\n",
        "\n",
        "def divide(num1, num2):\n",
        "    if num2 != 0:\n",
        "      return num1 / num2\n",
        "    else:\n",
        "      print(\"Cannot divide by zero. Please enter a valid second number.\")\n",
        "      return None\n",
        "\n",
        "\n",
        "# creating dictionaries to store the operation functions\n",
        "operations = {\n",
        "  \"+\": add,\n",
        "  \"-\": subtract,\n",
        "  \"*\": multiply,\n",
        "  \"/\": divide\n",
        "}\n",
        "\n",
        "\n",
        "try: #allows for exclusion of error incase of a wrong input by user\n",
        "  def calculator():\n",
        "\n",
        "    continue_calculation = False\n",
        "    exit_calculator = False\n",
        "\n",
        "    while not exit_calculator:\n",
        "      if continue_calculation == False:\n",
        "        num1 = float(input(\"Enter the first number: \"))\n",
        "\n",
        "      for operators in operations:\n",
        "        print(operators) #prints all the operators for user to choose from\n",
        "      operator = input(\"Enter an operation symbol: \")\n",
        "      if operator not in operations:\n",
        "          print(\"Invalid operator. Please choose a valid operator.\")\n",
        "          continue\n",
        "      num2 = float(input(\"Enter the second number: \"))\n",
        "\n",
        "\n",
        "      calculation_function = operations[operator]\n",
        "      answer = calculation_function(num1, num2)\n",
        "      print(f\"{num1} {operator} {num2} = {answer}\") #using the f-string, this returns the equation and answer\n",
        "\n",
        "      while True:\n",
        "        continue_calculation = input(\"Continue calculation with answer (Y/N): \")\n",
        "\n",
        "        if continue_calculation.upper() == \"Y\":\n",
        "          num1 = answer #uses the answer from the last calculation as the first number for the next calculation\n",
        "          conntinue_calculation = False\n",
        "          break\n",
        "        elif continue_calculation.upper() == \"N\":\n",
        "          while True:\n",
        "            continue_calculation = False\n",
        "            exit_calculator = input(\"Do you want to exit the calculator (Y/N)\")\n",
        "            if exit_calculator.upper() == \"Y\":\n",
        "              print(\"Calculator closing...\")\n",
        "              exit_calculator = True\n",
        "              break\n",
        "            else:\n",
        "              print(\"Enter (Y) to exit the calculator and (N) to start a new calculation\")\n",
        "              continue\n",
        "          break\n",
        "        else:\n",
        "          print(\"Enter the correct input: \")\n",
        "except ValueError as e:\n",
        "  print(\"Enter a valid number: {e}\")\n",
        "\n",
        "\n",
        "calculator()\n",
        "\n",
        "\n",
        "\n",
        "\n",
        "\n",
        "\n",
        "\n"
      ],
      "metadata": {
        "id": "63Kns3h0RY6A",
        "colab": {
          "base_uri": "https://localhost:8080/"
        },
        "outputId": "fb14dbd8-16f6-4487-cc5c-f39d9ad7561e"
      },
      "execution_count": 28,
      "outputs": [
        {
          "output_type": "stream",
          "name": "stdout",
          "text": [
            "Enter the first number: 5\n",
            "+\n",
            "-\n",
            "*\n",
            "/\n",
            "Enter an operation symbol: *\n",
            "Enter the second number: 8\n",
            "5.0 * 8.0 = 40.0\n",
            "Continue calculation with answer (Y/N): y\n",
            "+\n",
            "-\n",
            "*\n",
            "/\n",
            "Enter an operation symbol: -\n",
            "Enter the second number: 3\n",
            "40.0 - 3.0 = 37.0\n",
            "Continue calculation with answer (Y/N): n\n",
            "Do you want to exit the calculator (Y/N)k\n",
            "Enter (Y) to exit the calculator and (N) to start a new calculation\n",
            "Do you want to exit the calculator (Y/N)y\n",
            "Calculator closing...\n"
          ]
        }
      ]
    }
  ]
}
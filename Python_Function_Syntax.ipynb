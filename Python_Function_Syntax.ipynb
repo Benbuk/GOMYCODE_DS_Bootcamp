{
  "nbformat": 4,
  "nbformat_minor": 0,
  "metadata": {
    "colab": {
      "provenance": [],
      "authorship_tag": "ABX9TyNebU4+Crhob2tFoQVjTeY6",
      "include_colab_link": true
    },
    "kernelspec": {
      "name": "python3",
      "display_name": "Python 3"
    },
    "language_info": {
      "name": "python"
    }
  },
  "cells": [
    {
      "cell_type": "markdown",
      "metadata": {
        "id": "view-in-github",
        "colab_type": "text"
      },
      "source": [
        "<a href=\"https://colab.research.google.com/github/Benbuk/GOMYCODE_DS_Bootcamp/blob/main/Python_Function_Syntax.ipynb\" target=\"_parent\"><img src=\"https://colab.research.google.com/assets/colab-badge.svg\" alt=\"Open In Colab\"/></a>"
      ]
    },
    {
      "cell_type": "code",
      "source": [
        "#Defining the calculator operators\n",
        "def add(num1, num2):\n",
        "  return num1 + num2\n",
        "\n",
        "def subtract(num1, num2):\n",
        "  return num1 - num2\n",
        "\n",
        "def multiply(num1, num2):\n",
        "  return num1 * num2\n",
        "\n",
        "def divide(num1, num2):\n",
        "    if num2 != 0:\n",
        "      return num1 / num2\n",
        "    else:\n",
        "      print(\"Cannot divide by zero. Please enter a valid second number.\")\n",
        "      return None\n",
        "\n",
        "\n",
        "# creating dictionaries to store the operation functions\n",
        "operations = {\n",
        "  \"+\": add,\n",
        "  \"-\": subtract,\n",
        "  \"*\": multiply,\n",
        "  \"/\": divide\n",
        "}\n",
        "\n",
        "\n",
        "#allows for exclusion of error incase of a wrong input by user\n",
        "\n",
        "def calculator():\n",
        "  while True:\n",
        "    num1 = input(\"Enter the first number or Q to quit the calculator: \")\n",
        "    if num1.upper() == \"Q\":\n",
        "      print(\"calculator program closing...\")\n",
        "      return  # Exit the calculator program\n",
        "    break\n",
        "\n",
        "  num1 = float(num1)\n",
        "\n",
        "  for operators in operations:\n",
        "    print(operators) #prints all the operators for user to choose from\n",
        "\n",
        "  while True:\n",
        "    operator = input(\"Enter an operation symbol: \")\n",
        "    if operator not in operations:\n",
        "        print(\"Invalid operator. Please choose a valid operator.\")\n",
        "        continue\n",
        "    num2 = float(input(\"Enter the second number: \"))\n",
        "\n",
        "\n",
        "    calculation_function = operations[operator]\n",
        "    answer = calculation_function(num1, num2)\n",
        "    print(f\"{num1} {operator} {num2} = {answer}\") #using the f-string, this returns the equation and answer\n",
        "\n",
        "    while True:\n",
        "      continue_calulation = input(\"Continue calculation with answer (Y/N): \")\n",
        "\n",
        "      if continue_calulation.upper() == \"Y\":\n",
        "        num1 = answer #uses the answer from the last calculation as the first number for the next calculation\n",
        "        break\n",
        "      elif continue_calulation.upper() == \"N\":\n",
        "        calculator()\n",
        "        break\n",
        "      else:\n",
        "        print(\"Please enter the correct input: \")\n",
        "calculator()\n",
        "\n",
        "\n",
        "\n",
        "\n",
        "\n",
        "\n",
        "\n",
        "\n",
        "\n",
        "\n",
        "\n",
        "\n"
      ],
      "metadata": {
        "id": "63Kns3h0RY6A",
        "colab": {
          "base_uri": "https://localhost:8080/"
        },
        "outputId": "b3bf0b6a-cdd1-432b-a882-8b44029f4790"
      },
      "execution_count": 37,
      "outputs": [
        {
          "output_type": "stream",
          "name": "stdout",
          "text": [
            "Enter the first number or Q to quit the calculator: Q\n",
            "calculator program closing...\n"
          ]
        }
      ]
    }
  ]
}
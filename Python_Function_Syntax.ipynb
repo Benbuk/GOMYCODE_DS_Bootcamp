{
  "nbformat": 4,
  "nbformat_minor": 0,
  "metadata": {
    "colab": {
      "provenance": [],
      "authorship_tag": "ABX9TyMoyKR2MM8YkOdOLV76w+60",
      "include_colab_link": true
    },
    "kernelspec": {
      "name": "python3",
      "display_name": "Python 3"
    },
    "language_info": {
      "name": "python"
    }
  },
  "cells": [
    {
      "cell_type": "markdown",
      "metadata": {
        "id": "view-in-github",
        "colab_type": "text"
      },
      "source": [
        "<a href=\"https://colab.research.google.com/github/Benbuk/GOMYCODE_DS_Bootcamp/blob/main/Python_Function_Syntax.ipynb\" target=\"_parent\"><img src=\"https://colab.research.google.com/assets/colab-badge.svg\" alt=\"Open In Colab\"/></a>"
      ]
    },
    {
      "cell_type": "markdown",
      "source": [],
      "metadata": {
        "id": "rhUcF2LSqsdi"
      }
    },
    {
      "cell_type": "code",
      "source": [
        "#Defining the calculator operators\n",
        "def add(num1, num2):\n",
        "  return num1 + num2\n",
        "\n",
        "def subtract(num1, num2):\n",
        "  return num1 - num2\n",
        "\n",
        "def multiply(num1, num2):\n",
        "  return num1 * num2\n",
        "\n",
        "def divide(num1, num2):\n",
        "    if num2 != 0:\n",
        "      return num1 / num2\n",
        "    else:\n",
        "      print(\"Cannot divide by zero. Please enter a valid second number.\")\n",
        "      return None\n",
        "\n",
        "\n",
        "# creating dictionaries to store the operation functions\n",
        "operations = {\n",
        "  \"+\": add,\n",
        "  \"-\": subtract,\n",
        "  \"*\": multiply,\n",
        "  \"/\": divide\n",
        "}\n",
        "\n",
        "\n",
        "try: #allows for exclusion of error incase of a wrong input by user\n",
        "  def calculator():\n",
        "\n",
        "    #continue_calulation = False\n",
        "    exit_calculator = False\n",
        "\n",
        "    while not exit_calculator:\n",
        "      if continue_calulation == False:\n",
        "        num1 = float(input(\"Enter the first number: \"))\n",
        "\n",
        "      for operators in operations:\n",
        "        print(operators) #prints all the operators for user to choose from\n",
        "      operator = input(\"Enter an operation symbol: \")\n",
        "      if operator not in operations:\n",
        "          print(\"Invalid operator. Please choose a valid operator.\")\n",
        "          continue\n",
        "      num2 = float(input(\"Enter the second number: \"))\n",
        "\n",
        "\n",
        "      calculation_function = operations[operator]\n",
        "      answer = calculation_function(num1, num2)\n",
        "      print(f\"{num1} {operator} {num2} = {answer}\") #using the f-string, this returns the equation and answer\n",
        "\n",
        "      while True:\n",
        "        continue_calulation = input(\"Continue calculation with answer (Y/N): \")\n",
        "\n",
        "        if continue_calulation.upper() == \"Y\":\n",
        "          num1 = answer #uses the answer from the last calculation as the first number for the next calculation\n",
        "          break\n",
        "        elif continue_calulation.upper() == \"N\":\n",
        "          continue_calulation = False\n",
        "          exit_calculator = input(\"Do you want to exit the calculator (Y/N)\")\n",
        "          if exit_calculator.upper() == \"Y\":\n",
        "            print(\"Calculator closing...\")\n",
        "            exit_calculator = True\n",
        "            break\n",
        "          else:\n",
        "            exit_calculator = False\n",
        "            break\n",
        "        else:\n",
        "          print(\"Please enter the correct input: \")\n",
        "except ValueError as e:\n",
        "  print(\"please enter a valid number: {e}\")\n",
        "\n",
        "\n",
        "calculator()\n",
        "\n",
        "\n",
        "\n",
        "\n",
        "\n",
        "\n",
        "\n",
        "\n"
      ],
      "metadata": {
        "id": "63Kns3h0RY6A",
        "colab": {
          "base_uri": "https://localhost:8080/"
        },
        "outputId": "fe6d7158-2a85-44ab-a1af-9bb1417d6da1"
      },
      "execution_count": null,
      "outputs": [
        {
          "output_type": "stream",
          "name": "stdout",
          "text": [
            "Enter the first number: 8\n",
            "+\n",
            "-\n",
            "*\n",
            "/\n",
            "Enter an operation symbol: *\n",
            "Enter the second number: 9\n",
            "8.0 * 9.0 = 72.0\n",
            "Continue calculation with answer (Y/N): N\n",
            "Do you want to exit the calculator (Y/N)Y\n",
            "Calculator closing...\n"
          ]
        }
      ]
    }
  ]
}
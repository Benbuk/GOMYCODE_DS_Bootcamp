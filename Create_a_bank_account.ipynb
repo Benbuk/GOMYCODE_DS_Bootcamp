{
  "nbformat": 4,
  "nbformat_minor": 0,
  "metadata": {
    "colab": {
      "provenance": [],
      "authorship_tag": "ABX9TyO16ejt0SoaeJTkFOxcLTg1",
      "include_colab_link": true
    },
    "kernelspec": {
      "name": "python3",
      "display_name": "Python 3"
    },
    "language_info": {
      "name": "python"
    }
  },
  "cells": [
    {
      "cell_type": "markdown",
      "metadata": {
        "id": "view-in-github",
        "colab_type": "text"
      },
      "source": [
        "<a href=\"https://colab.research.google.com/github/Benbuk/GOMYCODE_DS_Bootcamp/blob/main/Create_a_bank_account.ipynb\" target=\"_parent\"><img src=\"https://colab.research.google.com/assets/colab-badge.svg\" alt=\"Open In Colab\"/></a>"
      ]
    },
    {
      "cell_type": "markdown",
      "source": [
        "**Creating a Bank Account**\n",
        "\n",
        "*Checkpoint Objective*\n",
        "\n",
        "Create a class called \"Account\" that has the following attributes:\n",
        "\n",
        ">account_number (string)\n",
        ">account_balance (float)\n",
        ">account_holder (string)\n",
        "\n",
        "The class should have the following methods:\n",
        "\n",
        ">deposit(amount: float) - This method should add the amount passed as an argument to the account balance.\n",
        "\n",
        ">withdraw(amount: float) - This method should subtract the amount passed as an argument from the account balance, but only if the account balance is greater than the amount being withdrawn.\n",
        "\n",
        ">check_balance() - This method should return the current account balance.\n",
        "\n",
        "Instructions\n",
        "\n",
        "1. Create a new file called \"bank_account.py\"\n",
        "2. Define the Account class and its attributes as specified above.\n",
        "3. Define the deposit() method. It\n",
        "should take in one argument, the amount to be deposited, and add it to the account balance.\n",
        "4. Define the withdraw() method. It should take in one argument, the amount to be withdrawn, and subtract it from the account balance. The method should only execute the withdrawal if the account balance is greater than or equal to the amount to be withdrawn.\n",
        "5. Define the check_balance() method. It should return the current account balance.\n",
        "6. Create an instance of the Account class, and assign it to a variable called \"my_account\".\n",
        "7. Use the methods of the class to deposit and withdraw money from the account, and check the account balance.\n",
        "Test the program by creating multiple instances of the class and performing different transactions on them."
      ],
      "metadata": {
        "id": "hhfPuNUNqB5L"
      }
    },
    {
      "cell_type": "code",
      "source": [
        "import random\n",
        "\n",
        "class Account:\n",
        "    # Class variable to keep track of generated account numbers\n",
        "    used_account_numbers = set()\n",
        "\n",
        "    def __init__(self, account_holder:str, account_balance:float=0.0):\n",
        "        self.account_number = self.generate_account_number()\n",
        "        self.account_holder = account_holder\n",
        "        self.account_balance = account_balance\n",
        "\n",
        "    def generate_account_number(self):\n",
        "        # Generate a unique account number as string\n",
        "        while True:\n",
        "            account_number = str(random.randint(100000000, 999999999))\n",
        "            if account_number not in Account.used_account_numbers:\n",
        "                Account.used_account_numbers.add(account_number)\n",
        "                return account_number\n",
        "\n",
        "    def deposit(self, amount:float):\n",
        "        if amount > 0:\n",
        "            self.account_balance += amount\n",
        "            print(f\"Transaction Type: Deposit\\n Account name: {self.account_holder}\\n Account No.:{self.account_number}\\n Amount: ${amount} \\n Balance: ${self.account_balance}\")\n",
        "        else:\n",
        "            print(\"Invalid deposit amount. Please enter a positive value.\")\n",
        "\n",
        "    def withdraw(self, amount:float):\n",
        "        if amount > 0 and self.account_balance > amount:\n",
        "            self.account_balance -= amount\n",
        "            print(f\"Transaction Type: Withdrawal\\n Account name: {self.account_holder}\\n Account No.:{self.account_number}\\n Amount: ${amount} \\n Balance: ${self.account_balance}\")\n",
        "        elif amount > 0:\n",
        "            print(f\"Insufficient funds for withdrawal - {self.account_holder}\")\n",
        "        else:\n",
        "            print(\"Invalid withdrawal amount. Please enter a positive value.\")\n",
        "\n",
        "    def check_balance(self):\n",
        "        return self.account_balance\n",
        "\n",
        "if __name__ == \"__main__\":\n",
        "    # Create instances of the Account class\n",
        "    account001 = Account(account_holder=\"Akindele Jane\")\n",
        "    account002 = Account(account_holder=\"Okafor Mercy\")\n",
        "\n",
        "    # Deposit and check balance for both accounts\n",
        "    account001.deposit(1000.0)\n",
        "    account002.deposit(500.0)\n",
        "\n",
        "    # Withdraw and check balance for both accounts\n",
        "    account001.withdraw(200.0)\n",
        "    account002.withdraw(700.0)\n"
      ],
      "metadata": {
        "colab": {
          "base_uri": "https://localhost:8080/"
        },
        "id": "Rg51wdUSpyXd",
        "outputId": "7e1ae7e2-1296-476e-9010-92a89bfd1c44"
      },
      "execution_count": 34,
      "outputs": [
        {
          "output_type": "stream",
          "name": "stdout",
          "text": [
            "Transaction Type: Deposit\n",
            " Account name: Akindele Jane\n",
            " Account No.:371271224\n",
            " Amount: $1000.0 \n",
            " Balance: $1000.0\n",
            "Transaction Type: Deposit\n",
            " Account name: Okafor Mercy\n",
            " Account No.:927918816\n",
            " Amount: $500.0 \n",
            " Balance: $500.0\n",
            "Transaction Type: Withdrawal\n",
            " Account name: Akindele Jane\n",
            " Account No.:371271224\n",
            " Amount: $200.0 \n",
            " Balance: $800.0\n",
            "Insufficient funds for withdrawal - Okafor Mercy\n"
          ]
        }
      ]
    }
  ]
}
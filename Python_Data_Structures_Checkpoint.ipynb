{
  "cells": [
    {
      "cell_type": "markdown",
      "metadata": {
        "id": "view-in-github",
        "colab_type": "text"
      },
      "source": [
        "<a href=\"https://colab.research.google.com/github/Benbuk/GOMYCODE_DS_Bootcamp/blob/main/Python_Data_Structures_Checkpoint.ipynb\" target=\"_parent\"><img src=\"https://colab.research.google.com/assets/colab-badge.svg\" alt=\"Open In Colab\"/></a>"
      ]
    },
    {
      "cell_type": "markdown",
      "source": [
        "**Python Data Structure Checkpoint**\n",
        "\n",
        "Instructions\n",
        "\n",
        "Objective:\n",
        "\n",
        "*Create a list to store the shopping items*\n",
        "\n",
        ">Use a while loop to create a menu of options for the user to add, remove, or view items from the list\n",
        ">Use a for loop to iterate through the list of items and display them to the user\n",
        ">Use the range() function to limit the number of items that can be added to the list\n",
        ">Use the list, tuple, set, and dictionary data structures to store and manipulate the shopping items\n",
        "\n",
        "Instructions:\n",
        "\n",
        "1. Create a list named 'shopping_list' to store the items.\n",
        "2. Use a while loop to create a menu of options for the user to add, remove, or view items from the list.\n",
        "3. Use the input() function to prompt the user to make a selection from the menu.\n",
        "4. Use an if-elif-else block to determine the user's selection and perform the corresponding action.\n",
        "5. If the user selects 'add', use the input() function to prompt the user to enter an item to add to the list. Use the range() function to limit the number of items that can be added to the list.\n",
        "6. If the user selects 'remove', use the input() function to prompt the user to enter an item to remove from the list.\n",
        "7. If the user selects 'view', use a for loop to iterate through the list of items and display them to the user.\n",
        "8. Use the list, tuple, set, and dictionary data structures to store and manipulate the shopping items."
      ],
      "metadata": {
        "id": "jzJVf9AsA23r"
      }
    },
    {
      "cell_type": "code",
      "execution_count": 9,
      "metadata": {
        "colab": {
          "base_uri": "https://localhost:8080/",
          "height": 616
        },
        "id": "_f4ly4VYl7zZ",
        "outputId": "df007277-1115-4ee9-90ac-1ee4009bd98a"
      },
      "outputs": [
        {
          "output_type": "stream",
          "name": "stdout",
          "text": [
            "Menu:\n",
            "1. Add items\n",
            "2. Remove items\n",
            "3. View items\n",
            "4. Exit\n",
            "Please Enter a number: 5\n",
            "5\n",
            "Invalid selection. Please enter a number between 1 and 4.\n",
            "Menu:\n",
            "1. Add items\n",
            "2. Remove items\n",
            "3. View items\n",
            "4. Exit\n"
          ]
        },
        {
          "output_type": "error",
          "ename": "KeyboardInterrupt",
          "evalue": "ignored",
          "traceback": [
            "\u001b[0;31m---------------------------------------------------------------------------\u001b[0m",
            "\u001b[0;31mKeyboardInterrupt\u001b[0m                         Traceback (most recent call last)",
            "\u001b[0;32m<ipython-input-9-52b20f6fe7d0>\u001b[0m in \u001b[0;36m<cell line: 7>\u001b[0;34m()\u001b[0m\n\u001b[1;32m     14\u001b[0m \u001b[0;34m\u001b[0m\u001b[0m\n\u001b[1;32m     15\u001b[0m \u001b[0;34m\u001b[0m\u001b[0m\n\u001b[0;32m---> 16\u001b[0;31m   \u001b[0mSelection\u001b[0m \u001b[0;34m=\u001b[0m \u001b[0minput\u001b[0m\u001b[0;34m(\u001b[0m\u001b[0;34m\"Please Enter a number: \"\u001b[0m\u001b[0;34m)\u001b[0m\u001b[0;34m\u001b[0m\u001b[0;34m\u001b[0m\u001b[0m\n\u001b[0m\u001b[1;32m     17\u001b[0m   \u001b[0mprint\u001b[0m\u001b[0;34m(\u001b[0m\u001b[0mSelection\u001b[0m\u001b[0;34m)\u001b[0m\u001b[0;34m\u001b[0m\u001b[0;34m\u001b[0m\u001b[0m\n\u001b[1;32m     18\u001b[0m \u001b[0;34m\u001b[0m\u001b[0m\n",
            "\u001b[0;32m/usr/local/lib/python3.10/dist-packages/ipykernel/kernelbase.py\u001b[0m in \u001b[0;36mraw_input\u001b[0;34m(self, prompt)\u001b[0m\n\u001b[1;32m    849\u001b[0m                 \u001b[0;34m\"raw_input was called, but this frontend does not support input requests.\"\u001b[0m\u001b[0;34m\u001b[0m\u001b[0;34m\u001b[0m\u001b[0m\n\u001b[1;32m    850\u001b[0m             )\n\u001b[0;32m--> 851\u001b[0;31m         return self._input_request(str(prompt),\n\u001b[0m\u001b[1;32m    852\u001b[0m             \u001b[0mself\u001b[0m\u001b[0;34m.\u001b[0m\u001b[0m_parent_ident\u001b[0m\u001b[0;34m,\u001b[0m\u001b[0;34m\u001b[0m\u001b[0;34m\u001b[0m\u001b[0m\n\u001b[1;32m    853\u001b[0m             \u001b[0mself\u001b[0m\u001b[0;34m.\u001b[0m\u001b[0m_parent_header\u001b[0m\u001b[0;34m,\u001b[0m\u001b[0;34m\u001b[0m\u001b[0;34m\u001b[0m\u001b[0m\n",
            "\u001b[0;32m/usr/local/lib/python3.10/dist-packages/ipykernel/kernelbase.py\u001b[0m in \u001b[0;36m_input_request\u001b[0;34m(self, prompt, ident, parent, password)\u001b[0m\n\u001b[1;32m    893\u001b[0m             \u001b[0;32mexcept\u001b[0m \u001b[0mKeyboardInterrupt\u001b[0m\u001b[0;34m:\u001b[0m\u001b[0;34m\u001b[0m\u001b[0;34m\u001b[0m\u001b[0m\n\u001b[1;32m    894\u001b[0m                 \u001b[0;31m# re-raise KeyboardInterrupt, to truncate traceback\u001b[0m\u001b[0;34m\u001b[0m\u001b[0;34m\u001b[0m\u001b[0m\n\u001b[0;32m--> 895\u001b[0;31m                 \u001b[0;32mraise\u001b[0m \u001b[0mKeyboardInterrupt\u001b[0m\u001b[0;34m(\u001b[0m\u001b[0;34m\"Interrupted by user\"\u001b[0m\u001b[0;34m)\u001b[0m \u001b[0;32mfrom\u001b[0m \u001b[0;32mNone\u001b[0m\u001b[0;34m\u001b[0m\u001b[0;34m\u001b[0m\u001b[0m\n\u001b[0m\u001b[1;32m    896\u001b[0m             \u001b[0;32mexcept\u001b[0m \u001b[0mException\u001b[0m \u001b[0;32mas\u001b[0m \u001b[0me\u001b[0m\u001b[0;34m:\u001b[0m\u001b[0;34m\u001b[0m\u001b[0;34m\u001b[0m\u001b[0m\n\u001b[1;32m    897\u001b[0m                 \u001b[0mself\u001b[0m\u001b[0;34m.\u001b[0m\u001b[0mlog\u001b[0m\u001b[0;34m.\u001b[0m\u001b[0mwarning\u001b[0m\u001b[0;34m(\u001b[0m\u001b[0;34m\"Invalid Message:\"\u001b[0m\u001b[0;34m,\u001b[0m \u001b[0mexc_info\u001b[0m\u001b[0;34m=\u001b[0m\u001b[0;32mTrue\u001b[0m\u001b[0;34m)\u001b[0m\u001b[0;34m\u001b[0m\u001b[0;34m\u001b[0m\u001b[0m\n",
            "\u001b[0;31mKeyboardInterrupt\u001b[0m: Interrupted by user"
          ]
        }
      ],
      "source": [
        "#Python Data Structure Checkpoint\n",
        "shopping_list = []\n",
        "shopping_set = set()\n",
        "shopping_dict = {}\n",
        "\n",
        "\n",
        "while True:\n",
        "  #Options for user selection\n",
        "  print(\"Menu:\")\n",
        "  print(\"1. Add items\")\n",
        "  print(\"2. Remove items\")\n",
        "  print(\"3. View items\")\n",
        "  print(\"4. Exit\")\n",
        "\n",
        "\n",
        "  Selection = input(\"Please Enter a number: \")\n",
        "  print(Selection)\n",
        "\n",
        "\n",
        "  if Selection == \"1\":\n",
        "    #Add items to the shopping_list\n",
        "    for i in range(3) : # limits the number of items that can be added to the list to 3 at a time\n",
        "      item_name = input(\"Enter the item name to add: \")\n",
        "\n",
        "      #using set to check duplicate or repitation of items\n",
        "      if item_name in shopping_set:\n",
        "          print(f\"{item_name} is already in your shopping list.\")\n",
        "          continue\n",
        "\n",
        "      item_quantity = int(input(\"Enter the quantity: \"))\n",
        "      item_price = float(input(\"Enter the price per unit: \"))\n",
        "\n",
        "      item_data = (item_quantity, item_price)\n",
        "      shopping_list.append(item_name)\n",
        "\n",
        "\n",
        "      shopping_set.add(item_name)\n",
        "      shopping_dict[item_name] = item_data\n",
        "\n",
        "\n",
        "\n",
        "      print(f\"{item_name} ({item_quantity} units, ${item_price} per unit) has been added to your shopping list\")\n",
        "    print(\"Current shopping list:\", shopping_list)\n",
        "\n",
        "\n",
        "  elif Selection == \"2\":\n",
        "     # Remove items from the shopping_list\n",
        "        if not shopping_list:\n",
        "            print(\"Your shopping list is empty. No items to remove.\")\n",
        "        else:\n",
        "            while True:\n",
        "                item_to_remove = input(\"Enter the item to remove (type 'Done' to finish): \")\n",
        "                if item_to_remove.lower() == \"done\":\n",
        "                    break\n",
        "                if item_to_remove.lower() in shopping_set:\n",
        "                    # Remove from list\n",
        "                    shopping_list.remove(item_to_remove)\n",
        "\n",
        "                    # Remove from set\n",
        "                    shopping_set.remove(item_to_remove)\n",
        "\n",
        "                    # Remove from dictionary\n",
        "                    del shopping_dict[item_to_remove]\n",
        "\n",
        "                    print(f\"{item_to_remove} has been removed from the shopping list\")\n",
        "                else:\n",
        "                    print(f\"{item_to_remove} not found in your shopping list.\")\n",
        "\n",
        " #view items in the shopping list\n",
        "  elif Selection == \"3\":\n",
        "      print(\"items in your shopping list/set/dictionary:\")\n",
        "      shopping_tuple = tuple(shopping_list)\n",
        "\n",
        "      #view items in the shopping list/set/dictionary/tuple\n",
        "      print(\"List:\", shopping_list)\n",
        "      print(\"Set:\", shopping_set)\n",
        "      print(\"Dictionary:\", shopping_dict)\n",
        "      print(\"Tuple:\", shopping_tuple)\n",
        "\n",
        "#Exit\n",
        "  elif Selection == \"4\":\n",
        "    if not shopping_list:\n",
        "            print(\"Your shopping list is empty\")\n",
        "    shoppinglist_complete = input(\"Enter (Yes) to conitinue or (No) to stop: \")\n",
        "\n",
        "    if shoppinglist_complete.lower() == \"Yes\":\n",
        "      continue\n",
        "    elif shoppinglist_complete.lower() == \"No\":\n",
        "      print(\"Closing program.....\")\n",
        "      break\n",
        "    else:\n",
        "        print(\"Invalid selection. Enter Yes or No to contiue or end the program\")\n",
        "\n",
        "  else:\n",
        "\n",
        "    print(\"Invalid selection. Enter a number between 1 and 4.\")\n",
        "\n",
        "\n",
        "\n",
        "\n",
        "\n",
        "\n",
        "\n",
        "\n",
        "\n",
        "\n",
        "\n",
        "\n",
        "\n",
        "\n",
        "\n"
      ]
    },
    {
      "cell_type": "code",
      "source": [],
      "metadata": {
        "id": "2y3HFlvL9-WH"
      },
      "execution_count": null,
      "outputs": []
    }
  ],
  "metadata": {
    "colab": {
      "provenance": [],
      "authorship_tag": "ABX9TyMyeBOSgdAr+7xTKx5XIAem",
      "include_colab_link": true
    },
    "kernelspec": {
      "display_name": "Python 3",
      "name": "python3"
    },
    "language_info": {
      "name": "python"
    }
  },
  "nbformat": 4,
  "nbformat_minor": 0
}
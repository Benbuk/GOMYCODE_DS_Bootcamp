{
  "cells": [
    {
      "cell_type": "markdown",
      "metadata": {
        "id": "view-in-github",
        "colab_type": "text"
      },
      "source": [
        "<a href=\"https://colab.research.google.com/github/Benbuk/GOMYCODE_DS_Bootcamp/blob/main/Python_Data_Structures_Checkpoint.ipynb\" target=\"_parent\"><img src=\"https://colab.research.google.com/assets/colab-badge.svg\" alt=\"Open In Colab\"/></a>"
      ]
    },
    {
      "cell_type": "code",
      "execution_count": null,
      "metadata": {
        "colab": {
          "base_uri": "https://localhost:8080/"
        },
        "id": "_f4ly4VYl7zZ",
        "outputId": "077d74fd-5ce9-4984-af50-efacca3b6be3"
      },
      "outputs": [
        {
          "output_type": "stream",
          "name": "stdout",
          "text": [
            "Menu:\n",
            "1. Add items to your shopping cart\n",
            "2. Remove items from your shopping cart\n",
            "3. View items in your shopping cart\n",
            "4. Proceed to Check out\n",
            "1\n",
            "Banana has added to your shopping list\n",
            "Banana has added to your shopping list\n",
            "Enter the item to add: wine\n",
            "wine has added to your shopping list\n"
          ]
        }
      ],
      "source": [
        "shopping_list = []\n",
        "\n",
        "while True:\n",
        "  #Options for user selection\n",
        "  print(\"Menu:\")\n",
        "  print(\"1. Add items to your shopping cart\")\n",
        "  print(\"2. Remove items from your shopping cart\")\n",
        "  print(\"3. View items in your shopping cart\")\n",
        "  print(\"4. Proceed to Check out\")\n",
        "\n",
        "\n",
        "  Selection = input(\"Please Enter a number: \")\n",
        "  print(Selection)\n",
        "\n",
        "\n",
        "  if Selection == \"1\":\n",
        "    #Add items to the shopping_list\n",
        "    while True:\n",
        "     items = input(\"Enter the item to add: \")\n",
        "     if items.lower() == \"Done\":\n",
        "        break\n",
        "     else:\n",
        "      print(f\"{items} has been added to your shopping list\")\n",
        "      shopping_list.append(items)\n",
        "    print(shopping_list)\n",
        "\n",
        "\n",
        "  elif Selection == \"2\":\n",
        "     # Remove items from the shopping_list\n",
        "        if not shopping_list:\n",
        "            print(\"Your shopping list is empty. No items to remove.\")\n",
        "        else:\n",
        "            while True:\n",
        "                item_to_remove = input(\"Enter the item to remove (type 'Done' to finish): \")\n",
        "                if item_to_remove.lower() == \"done\":\n",
        "                    break\n",
        "                if item_to_remove in shopping_list:\n",
        "                    shopping_list.remove(item_to_remove)\n",
        "                    print(f\"{item_to_remove} has been removed from your shopping list.\")\n",
        "                    print(\"Current shopping list:\", shopping_list)\n",
        "                else:\n",
        "                    print(f\"{item_to_remove} not found in your shopping list.\")\n",
        "\n",
        " #view items in the shopping list\n",
        "  elif Selection == \"3\":\n",
        "      print(\"You have the following items in Current shopping list:\")\n",
        "      for items in shopping_list:\n",
        "        print(f\"- {items}\")\n",
        "\n",
        "#remove this\n",
        "  elif Selection == \"4\":\n",
        "    if not shopping_list:\n",
        "            print(\"Your shopping list is empty. No items to checkout.\")\n",
        "    break\n",
        "\n",
        "  else:\n",
        "\n",
        "    print(\"Invalid selection. Please enter a number between 1 and 3.\")\n",
        "\n",
        "\n",
        "\n",
        "\n",
        "\n",
        "\n",
        "\n",
        "\n",
        "\n",
        "\n",
        "\n",
        "\n",
        "\n",
        "\n",
        "\n"
      ]
    },
    {
      "cell_type": "code",
      "execution_count": null,
      "metadata": {
        "id": "KAjthxlgzgxC"
      },
      "outputs": [],
      "source": []
    }
  ],
  "metadata": {
    "colab": {
      "provenance": [],
      "authorship_tag": "ABX9TyOKQop2nXyBZshCV/opWiHd",
      "include_colab_link": true
    },
    "kernelspec": {
      "display_name": "Python 3",
      "name": "python3"
    },
    "language_info": {
      "name": "python"
    }
  },
  "nbformat": 4,
  "nbformat_minor": 0
}
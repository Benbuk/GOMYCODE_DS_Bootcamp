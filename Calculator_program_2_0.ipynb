{
  "cells": [
    {
      "cell_type": "markdown",
      "metadata": {
        "id": "view-in-github",
        "colab_type": "text"
      },
      "source": [
        "<a href=\"https://colab.research.google.com/github/Benbuk/GOMYCODE_DS_Bootcamp/blob/main/Calculator_program_2_0.ipynb\" target=\"_parent\"><img src=\"https://colab.research.google.com/assets/colab-badge.svg\" alt=\"Open In Colab\"/></a>"
      ]
    },
    {
      "cell_type": "markdown",
      "metadata": {
        "id": "tlWTta7s4Nsq"
      },
      "source": [
        "**Checkpoint Objective**\n",
        "\n",
        "In this exercise, you will expand on the basic calculator program by adding more advanced mathematical operations and error handling using object-oriented programming.\n",
        "\n",
        "Instructions\n",
        "\n",
        "1. Create a new file called \"calculator_2.0.py\"\n",
        "2. Create a class called \"Calculator\" that contains the following:\n",
        "\n",
        ">* A dictionary attribute to store the available mathematical operations and their corresponding functions\n",
        ">* A method called \"init\" that initializes the dictionary with the basic mathematical operations (+, -, *, /) and corresponding functions\n",
        ">* A method called \"add_operation\" that takes in two arguments: the operation symbol and the corresponding function. This method should add the new operation and function to the dictionary.\n",
        ">* A method called \"calculate\" that takes in three arguments: the first number, the operation symbol, and the second number. This method should use the dictionary to determine the appropriate function to perform the calculation. It should also include error handling to check if the operation symbol is valid and if the input values are numbers. If an error is encountered, the method should print an error message and raise an exception.\n",
        "\n",
        "3. Create separate functions for the advanced mathematical operations (exponentiation, square root, logarithm) and use the \"add_operation\" method to add them to the calculator's dictionary.\n",
        "4. In the main program, create an instance of the Calculator class, and use a while loop that allows the user to continue performing calculations until they choose to exit.\n",
        "5. Use the input() function to get input from the user for the numbers and operation symbol.Use the math library for advanced mathematical operations\n",
        "6. Use the isinstance() function to check if the input is a number."
      ]
    },
    {
      "cell_type": "code",
      "source": [
        "import math\n",
        "\n",
        "class Calculator:\n",
        "    def __init__(self):\n",
        "        self.basic_operators = {\n",
        "            \"+\": lambda num1, num2: num1 + num2,\n",
        "            \"-\": lambda num1, num2: num1 - num2,\n",
        "            \"*\": lambda num1, num2: num1 * num2,\n",
        "            \"/\": lambda num1, num2: num1 / num2 if num2 != 0 else None\n",
        "        }\n",
        "\n",
        "    def add_operation(self, operator_symbol, operator_function):\n",
        "        # Add new operation\n",
        "        self.basic_operators[operator_symbol] = operator_function\n",
        "\n",
        "    def calculate(self, num1, operator, num2):\n",
        "\n",
        "        # Validate operator\n",
        "        if operator not in self.basic_operators:\n",
        "            raise ValueError(\"Invalid operator. Please choose a valid operator.\")\n",
        "\n",
        "        # Check for the \"log\" operation\n",
        "        if operator == \"log\":\n",
        "            return math.log(num2)\n",
        "        if operator == \"sqrt\":\n",
        "            return math.sqrt(num2)\n",
        "\n",
        "        # Perform the calculation\n",
        "        else:\n",
        "            # Validate input values\n",
        "            if not (isinstance(num1, (float, int)) and isinstance(num2, (float, int))):\n",
        "                raise ValueError(\"Invalid input values. Both numbers must be numeric.\")\n",
        "\n",
        "            calculation_function = self.basic_operators[operator]\n",
        "            return calculation_function(num1, num2)\n",
        "\n",
        "# Create an instance of the Calculator class\n",
        "calculator = Calculator()\n",
        "\n",
        "# Add advanced mathematical operations using the instance\n",
        "calculator.add_operation(\"**\", lambda x, y: x ** y)\n",
        "calculator.add_operation(\"sqrt\", lambda x: math.sqrt(x))\n",
        "calculator.add_operation(\"log\", lambda x, y: math.log(x, y))\n",
        "\n",
        "# Run the calculator loop in the main program\n",
        "while True:\n",
        "    try:\n",
        "        # Get input from the user\n",
        "        user_input = input(\"Enter the first number (or 'done' to quit): \")\n",
        "        if user_input.lower() == 'done':\n",
        "            print(\"Calculator closing...\")\n",
        "            break\n",
        "\n",
        "        if user_input.lower() == 'log':\n",
        "            # Directly get the second number for 'log' with base e (natural logarithm)\n",
        "            operator = 'log'\n",
        "            num2 = float(input(\"Enter the second number: \"))\n",
        "        elif user_input.lower() == 'sqrt':\n",
        "            operator = 'sqrt'\n",
        "\n",
        "            num2 = float(input(\"Enter the second number: \"))\n",
        "        else:\n",
        "            num1 = float(user_input)\n",
        "\n",
        "            # Print available operators\n",
        "            print(\"Available Operators:\")\n",
        "            for operator in calculator.basic_operators:\n",
        "                print(operator)\n",
        "\n",
        "            operator = input(\"Enter an operation symbol: \")\n",
        "\n",
        "            if operator in calculator.basic_operators:\n",
        "                num2 = float(input(\"Enter the second number: \"))\n",
        "            else:\n",
        "                # Assume advanced operations may require only one number\n",
        "                num2 = None\n",
        "\n",
        "        # Perform the calculation and print the result\n",
        "        result = calculator.calculate(num1, operator, num2)\n",
        "        print(f\"Result: {result}\")\n",
        "\n",
        "    except ValueError as e:\n",
        "        print(f\"Error: {e}\")\n"
      ],
      "metadata": {
        "colab": {
          "base_uri": "https://localhost:8080/"
        },
        "id": "oo1C28y4vAa5",
        "outputId": "2cd63637-f20c-4030-d258-d928ea665df9"
      },
      "execution_count": 47,
      "outputs": [
        {
          "output_type": "stream",
          "name": "stdout",
          "text": [
            "Enter the first number (or 'done' to quit): 8\n",
            "Available Operators:\n",
            "+\n",
            "-\n",
            "*\n",
            "/\n",
            "**\n",
            "sqrt\n",
            "log\n",
            "Enter an operation symbol: *\n",
            "Enter the second number: 3\n",
            "Result: 24.0\n",
            "Enter the first number (or 'done' to quit): log\n",
            "Enter the second number: 3\n",
            "Result: 1.0986122886681098\n",
            "Enter the first number (or 'done' to quit): 2\n",
            "Available Operators:\n",
            "+\n",
            "-\n",
            "*\n",
            "/\n",
            "**\n",
            "sqrt\n",
            "log\n",
            "Enter an operation symbol: log\n",
            "Enter the second number: 4\n",
            "Result: 1.3862943611198906\n",
            "Enter the first number (or 'done' to quit): sqrt\n",
            "Enter the second number: 4\n",
            "Result: 2.0\n",
            "Enter the first number (or 'done' to quit): done\n",
            "Calculator closing...\n"
          ]
        }
      ]
    },
    {
      "cell_type": "code",
      "source": [],
      "metadata": {
        "id": "paiWn_Bsz1MS"
      },
      "execution_count": null,
      "outputs": []
    }
  ],
  "metadata": {
    "colab": {
      "provenance": [],
      "authorship_tag": "ABX9TyPa0gb5jw/+CTI2mJZGW578",
      "include_colab_link": true
    },
    "kernelspec": {
      "display_name": "Python 3",
      "name": "python3"
    },
    "language_info": {
      "name": "python"
    }
  },
  "nbformat": 4,
  "nbformat_minor": 0
}
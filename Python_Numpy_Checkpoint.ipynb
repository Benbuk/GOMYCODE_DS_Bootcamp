{
  "nbformat": 4,
  "nbformat_minor": 0,
  "metadata": {
    "colab": {
      "provenance": [],
      "authorship_tag": "ABX9TyNVkJLZ+hrugzeSSvMaL+5h",
      "include_colab_link": true
    },
    "kernelspec": {
      "name": "python3",
      "display_name": "Python 3"
    },
    "language_info": {
      "name": "python"
    }
  },
  "cells": [
    {
      "cell_type": "markdown",
      "metadata": {
        "id": "view-in-github",
        "colab_type": "text"
      },
      "source": [
        "<a href=\"https://colab.research.google.com/github/Benbuk/GOMYCODE_DS_Bootcamp/blob/main/Python_Numpy_Checkpoint.ipynb\" target=\"_parent\"><img src=\"https://colab.research.google.com/assets/colab-badge.svg\" alt=\"Open In Colab\"/></a>"
      ]
    },
    {
      "cell_type": "markdown",
      "source": [
        "Numpy Checkpoint\n",
        "\n",
        "Checkpoint Objective\n",
        "Create a numpy array called \"grades\" that contains the following grades: [85, 90, 88, 92, 95, 80, 75, 98, 89, 83]\n",
        "\n",
        "**Instructions**\n",
        "\n",
        "1. Create a new file called \"grades_analysis.py\"\n",
        "2. Import the numpy library and create the \"grades\" array as specified above.\n",
        "3. Use numpy functions to calculate the mean, median, and standard deviation of the grades.\n",
        "4. Use numpy function to find the maximum and minimum of the grades.\n",
        "5. Use numpy function to sort the grades in ascending order.\n",
        "6. Use numpy function to find the index of the highest grade in the array.\n",
        "7. Use numpy function to count the number of students who scored above 90.\n",
        "8. Use numpy function to calculate the percentage of students who scored above 90.\n",
        "9. Use numpy function to calculate the percentage of students who scored below 75.\n",
        "10. Use numpy function to extract all the grades above 90 and put them in a new array called \"high_performers\".\n",
        "11. Create a new array called \"passing_grades\" that contains all the grades above 75.\n",
        "12. Print the result of all the above steps."
      ],
      "metadata": {
        "id": "x0RTBaUVVjeW"
      }
    },
    {
      "cell_type": "code",
      "execution_count": 19,
      "metadata": {
        "colab": {
          "base_uri": "https://localhost:8080/"
        },
        "id": "Il2osMVNX0TY",
        "outputId": "9c8c75d5-3685-4836-8397-6cd767391cdb"
      },
      "outputs": [
        {
          "output_type": "stream",
          "name": "stdout",
          "text": [
            "Mean Grade: 86.7\n",
            "Median Grade: 87.0\n",
            "Standard Deviation of Grades: 6.957729514719582\n",
            "Maximum Grade: 98\n",
            "Minimum Grade: 75\n",
            "Sorted Grades: [75 80 80 83 85 89 90 92 95 98]\n",
            "Index of Highest Grade: 7\n",
            "Number of Students Above 90: 3\n",
            "Percentage of Students Above 90: 30.0 %\n",
            "Percentage of Students Below 75: 0.0 %\n",
            "High Performers: [92 95 98]\n",
            "Passing Grades: [85 90 80 92 95 80 98 89 83]\n"
          ]
        }
      ],
      "source": [
        "import numpy as np\n",
        "\n",
        "# Create the \"grades\" array\n",
        "grades = np.array([85, 90, 80, 92, 95, 80, 75, 98, 89, 83])\n",
        "\n",
        "# Calculate mean, median, and standard deviation\n",
        "mean_grade = np.mean(grades)\n",
        "median_grade = np.median(grades)\n",
        "std_dev_grade = np.std(grades)\n",
        "\n",
        "# Find maximum and minimum\n",
        "max_grade = np.max(grades)\n",
        "min_grade = np.min(grades)\n",
        "\n",
        "# Sort grades in ascending order\n",
        "sorted_grades = np.sort(grades)\n",
        "\n",
        "# Find the index of the highest grade\n",
        "index_highest_grade = np.argmax(grades)\n",
        "\n",
        "# Count students who scored above 90\n",
        "above_90_count = np.sum(grades > 90)\n",
        "\n",
        "# Calculate the percentage of students who scored above 90\n",
        "percent_above_90 = np.mean(grades > 90) * 100\n",
        "\n",
        "# Calculate the percentage of students who scored below 75\n",
        "percent_below_75 = np.mean(grades < 75) * 100\n",
        "\n",
        "# Extract grades above 90\n",
        "high_performers = grades[grades > 90]\n",
        "\n",
        "# Create an array of passing grades (above 75)\n",
        "passing_grades = grades[grades > 75]\n",
        "\n",
        "# Print the results\n",
        "print(\"Mean Grade:\", mean_grade)\n",
        "print(\"Median Grade:\", median_grade)\n",
        "print(\"Standard Deviation of Grades:\", std_dev_grade)\n",
        "print(\"Maximum Grade:\", max_grade)\n",
        "print(\"Minimum Grade:\", min_grade)\n",
        "print(\"Sorted Grades:\", sorted_grades)\n",
        "print(\"Index of Highest Grade:\", index_highest_grade)\n",
        "print(\"Number of Students Above 90:\", above_90_count)\n",
        "print(\"Percentage of Students Above 90:\", percent_above_90, \"%\")\n",
        "print(\"Percentage of Students Below 75:\", percent_below_75, \"%\")\n",
        "print(\"High Performers:\", high_performers)\n",
        "print(\"Passing Grades:\", passing_grades)\n",
        "\n",
        "\n",
        "\n",
        "\n"
      ]
    }
  ]
}
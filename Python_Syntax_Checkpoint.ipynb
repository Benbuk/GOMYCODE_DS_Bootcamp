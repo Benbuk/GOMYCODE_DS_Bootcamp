{
  "nbformat": 4,
  "nbformat_minor": 0,
  "metadata": {
    "colab": {
      "provenance": [],
      "authorship_tag": "ABX9TyMODjgkJRb9ctp7N5r69dMl",
      "include_colab_link": true
    },
    "kernelspec": {
      "name": "python3",
      "display_name": "Python 3"
    },
    "language_info": {
      "name": "python"
    }
  },
  "cells": [
    {
      "cell_type": "markdown",
      "metadata": {
        "id": "view-in-github",
        "colab_type": "text"
      },
      "source": [
        "<a href=\"https://colab.research.google.com/github/Benbuk/GOMYCODE_DS_Bootcamp/blob/main/Python_Syntax_Checkpoint.ipynb\" target=\"_parent\"><img src=\"https://colab.research.google.com/assets/colab-badge.svg\" alt=\"Open In Colab\"/></a>"
      ]
    },
    {
      "cell_type": "code",
      "execution_count": 51,
      "metadata": {
        "colab": {
          "base_uri": "https://localhost:8080/"
        },
        "id": "cF25p6xU0Jy2",
        "outputId": "d93b852c-22c5-4457-bf96-59e2981fdd7e"
      },
      "outputs": [
        {
          "output_type": "stream",
          "name": "stdout",
          "text": [
            "What size of pizza would like to order (L/M/S): L\n",
            "Do you want extra pepperoni (Y/N): Y\n",
            "Do you want extra cheese (Y/N): Y\n",
            "25\n",
            "3\n",
            "1\n",
            "Your final bill is $29\n"
          ]
        }
      ],
      "source": [
        "# Python Syntax Checkpoint\n",
        "\n",
        "# Instructions\n",
        "# Open a new file in your Python development environment or IDE.\n",
        "# Begin by typing the line 'Welcome to Python Pizza Deliveries' which will display a welcome message when the code is run.\n",
        "# Add a line that prompts the user for the size of the pizza they want using the input() function and stores the user's input in a variable named 'size'.\n",
        "# Add a line that prompts the user if they want pepperoni on their pizza using the input() function and stores the user's input in a variable named 'add_pepperoni'.\n",
        "# Add a line that prompts the user if they want extra cheese on their pizza using the input() function and stores the user's input in a variable named 'extra_cheese'.\n",
        "# Check your code for any syntax errors or mistakes.\n",
        "# Run the code and test it by providing inputs for size, pepperoni, and extra cheese.\n",
        "\n",
        "\"Welcome to Python Pizza Deliveries\"\n",
        "# Assign the varaibles for the prices of each pizza size, pepperoni and extra cheese\n",
        "Small_pizza = 15\n",
        "Medium_pizza = 20\n",
        "Large_Pizza = 25\n",
        "Add_pepperoni = 3\n",
        "\n",
        "# Definning inputs for size, pepperoni and extra-cheese\n",
        "size = input(\"What size of pizza would like to order (L/M/S): \")\n",
        "add_pepperoni = input(\"Do you want extra pepperoni (Y/N): \")\n",
        "extra_cheese = input(\"Do you want extra cheese (Y/N): \")\n",
        "\n",
        "# This statement checks the input of pizza and excutes else if the wrong input is used\n",
        "if size.upper() == \"S\":\n",
        "  pizza_price = 15\n",
        "  print(pizza_price)\n",
        "elif size.upper() == \"M\":\n",
        "  pizza_price = 20\n",
        "  print(pizza_price)\n",
        "elif size.upper() == \"L\":\n",
        "   pizza_price = 25\n",
        "   print(pizza_price)\n",
        "else:\n",
        "  pizza_price = 0\n",
        "  print(\"please enter L for Large, M for Medium pizza, S for small\")\n",
        "\n",
        "# This statement checks the input for add_pepperoni and excutes else if the wrong input is used\n",
        "if add_pepperoni.upper() == \"Y\" and size.upper() == \"S\":\n",
        "  pepperoni_price = 2\n",
        "  print(pepperoni_price)\n",
        "elif add_pepperoni.upper() == \"Y\" and (size.upper() == \"M\" or size.upper() == \"L\"):\n",
        "  pepperoni_price = 3\n",
        "  print(pepperoni_price)\n",
        "elif add_pepperoni.upper() == \"N\":\n",
        "  pepperoni_price = 0\n",
        "  print(pepperoni_price)\n",
        "else:\n",
        "  pepperoni_price = 0\n",
        "  print(\"please enter Y for Yes, N for No extra pepperoni\")\n",
        "\n",
        "# This statement checks the input for extra_cheese and excutes else if the wrong input is used\n",
        "if extra_cheese.upper() == \"Y\":\n",
        "  cheese_price = 1\n",
        "  print(cheese_price)\n",
        "elif extra_cheese.upper() == \"N\":\n",
        "  cheese_price = 0\n",
        "  print(cheese_price)\n",
        "else:\n",
        "  cheese_price = 0\n",
        "  print(\"please enter Y for Yes, N for No extra cheese\")\n",
        "\n",
        "# print the final result based on the outcome of all the if statement\n",
        "print(\"Your final bill is $\" + str(pizza_price + pepperoni_price + cheese_price))"
      ]
    },
    {
      "cell_type": "code",
      "source": [],
      "metadata": {
        "id": "bST3sAIdSvv_"
      },
      "execution_count": null,
      "outputs": []
    }
  ]
}